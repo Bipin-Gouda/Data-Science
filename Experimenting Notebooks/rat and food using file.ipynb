{
 "cells": [
  {
   "cell_type": "code",
   "execution_count": 15,
   "metadata": {},
   "outputs": [
    {
     "name": "stdout",
     "output_type": "stream",
     "text": [
      "enter the value of number of rat\n",
      "\n",
      "12\n",
      "enter quantity of food single rat eats\n",
      "5\n",
      "enter num of elements5\n",
      "enter element 12\n",
      "enter element 24\n",
      "enter element 15\n",
      "enter element 32\n",
      "enter element 5\n",
      "[12, 24, 15, 32, 5]\n",
      "total lockers to be opned 4\n"
     ]
    }
   ],
   "source": [
    "#x = number of rat\n",
    "#n = unit of food per rat\n",
    "print(\"enter the value of number of rat\\n\")\n",
    "x = int(input())\n",
    "print(\"enter quantity of food single rat eats\")\n",
    "n = int(input())\n",
    "#print(\"number of rat\",x,\"\\nunit of food one rat eat\",n)\n",
    "m=x*n\n",
    "#print(\"total food required = \",m)\n",
    "houses = []\n",
    "a = int(input(\"enter num of elements\"))\n",
    "for i in range(0,a):\n",
    "    b = int(input(\"enter element \"))\n",
    "    houses.append(b)\n",
    "print(houses)\n",
    "m=90\n",
    "s=0\n",
    "c=0\n",
    "for i in houses:\n",
    "    if s<=m:\n",
    "        s=s+i\n",
    "        c+=1\n",
    "#print(s) \n",
    "print(\"total lockers to be opned\",c-1)"
   ]
  }
 ],
 "metadata": {
  "kernelspec": {
   "display_name": "Python 3",
   "language": "python",
   "name": "python3"
  },
  "language_info": {
   "codemirror_mode": {
    "name": "ipython",
    "version": 3
   },
   "file_extension": ".py",
   "mimetype": "text/x-python",
   "name": "python",
   "nbconvert_exporter": "python",
   "pygments_lexer": "ipython3",
   "version": "3.7.7"
  }
 },
 "nbformat": 4,
 "nbformat_minor": 4
}
