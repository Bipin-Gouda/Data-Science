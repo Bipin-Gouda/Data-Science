{
 "cells": [
  {
   "attachments": {},
   "cell_type": "markdown",
   "metadata": {},
   "source": [
    "#### Working with JSON"
   ]
  },
  {
   "cell_type": "code",
   "execution_count": null,
   "metadata": {},
   "outputs": [],
   "source": [
    "import pandas as pd"
   ]
  },
  {
   "cell_type": "code",
   "execution_count": null,
   "metadata": {},
   "outputs": [],
   "source": [
    "df=pd.read_json(\"Filepath\")      # reciepe dataset ffrom kaggle"
   ]
  },
  {
   "attachments": {},
   "cell_type": "markdown",
   "metadata": {},
   "source": [
    "Loading json dataset from URL"
   ]
  },
  {
   "cell_type": "code",
   "execution_count": null,
   "metadata": {},
   "outputs": [],
   "source": [
    "pd.read_json(\"URL\")"
   ]
  },
  {
   "attachments": {},
   "cell_type": "markdown",
   "metadata": {},
   "source": [
    "#### Working with SQL"
   ]
  },
  {
   "attachments": {},
   "cell_type": "markdown",
   "metadata": {},
   "source": [
    "#### We would need XAMP and MYSQL as (XAMP has apache server and SQL server)   (MYSQL generally else can use postgre etc also)\n",
    "- we need to start apache and mysql server\n",
    "- then in your machine hit localhost/phpmyadmin in your machine browse\n",
    "- create new database +new\n",
    "- enter name\n",
    "- choose file (load the sqlfile)\n",
    "#### then we need to download the connector and establish a connection"
   ]
  },
  {
   "cell_type": "code",
   "execution_count": null,
   "metadata": {},
   "outputs": [],
   "source": [
    "# !pip install mysql.connector                 "
   ]
  },
  {
   "cell_type": "code",
   "execution_count": null,
   "metadata": {},
   "outputs": [],
   "source": [
    "'''\n",
    "import mysql connector\n",
    "conn=mysql.connector.connect(host='localhost',user='root',password='',database='name of file') \n",
    "# (if using remote host then it's IP address eg Apache, AWS instd of 'localhoast')\n",
    "\n",
    "pd.read_sql_query(\"SELECT * FROM city...(any QUERY)\")\n",
    "\n",
    "'''"
   ]
  },
  {
   "attachments": {},
   "cell_type": "markdown",
   "metadata": {},
   "source": [
    "In a Database we canhave multiple Tables"
   ]
  }
 ],
 "metadata": {
  "language_info": {
   "name": "python"
  },
  "orig_nbformat": 4
 },
 "nbformat": 4,
 "nbformat_minor": 2
}
